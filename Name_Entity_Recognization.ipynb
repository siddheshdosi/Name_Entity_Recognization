{
  "nbformat": 4,
  "nbformat_minor": 0,
  "metadata": {
    "colab": {
      "name": "Name_Entity_Recognization.ipynb",
      "provenance": [],
      "authorship_tag": "ABX9TyN9EMC3gZWL6/IoS0hE/DGx",
      "include_colab_link": true
    },
    "kernelspec": {
      "name": "python3",
      "display_name": "Python 3"
    }
  },
  "cells": [
    {
      "cell_type": "markdown",
      "metadata": {
        "id": "view-in-github",
        "colab_type": "text"
      },
      "source": [
        "<a href=\"https://colab.research.google.com/github/siddheshdosi/Name_Entity_Recognization/blob/main/Name_Entity_Recognization.ipynb\" target=\"_parent\"><img src=\"https://colab.research.google.com/assets/colab-badge.svg\" alt=\"Open In Colab\"/></a>"
      ]
    },
    {
      "cell_type": "code",
      "metadata": {
        "id": "tOqAPyU9pQ_L"
      },
      "source": [
        "import spacy\n",
        "import random"
      ],
      "execution_count": 12,
      "outputs": []
    },
    {
      "cell_type": "code",
      "metadata": {
        "id": "jhXT1C-ppcpr",
        "outputId": "41ef4a56-e608-4167-fdd3-aabfc70bbf0d",
        "colab": {
          "base_uri": "https://localhost:8080/"
        }
      },
      "source": [
        "nlp = spacy.load('en_core_web_sm')\n",
        "nlp.pipe_names"
      ],
      "execution_count": 4,
      "outputs": [
        {
          "output_type": "execute_result",
          "data": {
            "text/plain": [
              "['tagger', 'parser', 'ner']"
            ]
          },
          "metadata": {
            "tags": []
          },
          "execution_count": 4
        }
      ]
    },
    {
      "cell_type": "code",
      "metadata": {
        "id": "93lmUHnupoJa",
        "outputId": "274b8164-d012-42ec-f711-df66fa0abfdb",
        "colab": {
          "base_uri": "https://localhost:8080/"
        }
      },
      "source": [
        "doc = nlp('India is the second largest population country after China')\n",
        "for ent in doc.ents:\n",
        "  print(ent.text,ent.start_char,ent.end_char,ent.label_)"
      ],
      "execution_count": 7,
      "outputs": [
        {
          "output_type": "stream",
          "text": [
            "India 0 5 GPE\n",
            "second 13 19 ORDINAL\n",
            "China 53 58 GPE\n"
          ],
          "name": "stdout"
        }
      ]
    },
    {
      "cell_type": "code",
      "metadata": {
        "id": "hAININ7LqCG-",
        "outputId": "1a7986d6-e8cc-402a-943a-3be6161797e3",
        "colab": {
          "base_uri": "https://localhost:8080/"
        }
      },
      "source": [
        "doc = nlp('I am Siddhesh Dosi and curently I am working in Ascena Retail Group as data scientist')\n",
        "for ent in doc.ents:\n",
        "  print(ent.text,ent.start_char,ent.end_char,ent.label_)"
      ],
      "execution_count": 8,
      "outputs": [
        {
          "output_type": "stream",
          "text": [
            "Siddhesh Dosi 5 18 PERSON\n",
            "Ascena Retail Group 48 67 ORG\n"
          ],
          "name": "stdout"
        }
      ]
    },
    {
      "cell_type": "markdown",
      "metadata": {
        "id": "0hjIrY6ZueKx"
      },
      "source": [
        "# Create Custom NER"
      ]
    },
    {
      "cell_type": "code",
      "metadata": {
        "id": "4jWKkGkPui7W"
      },
      "source": [
        "TRAIN_DATA = [('what is the price of polo?', {'entities': [(21, 25, 'PrdName')]}), \n",
        "              ('what is the price of ball?', {'entities': [(21, 25, 'PrdName')]}), \n",
        "              ('what is the price of jegging?', {'entities': [(21, 28, 'PrdName')]}), \n",
        "              ('what is the price of t-shirt?', {'entities': [(21, 28, 'PrdName')]}), \n",
        "              ('what is the price of jeans?', {'entities': [(21, 26, 'PrdName')]}), \n",
        "              ('what is the price of bat?', {'entities': [(21, 24, 'PrdName')]}), \n",
        "              ('what is the price of shirt?', {'entities': [(21, 26, 'PrdName')]}), \n",
        "              ('what is the price of bag?', {'entities': [(21, 24, 'PrdName')]}), \n",
        "              ('what is the price of cup?', {'entities': [(21, 24, 'PrdName')]}), \n",
        "              ('what is the price of jug?', {'entities': [(21, 24, 'PrdName')]}), \n",
        "              ('what is the price of plate?', {'entities': [(21, 26, 'PrdName')]}), \n",
        "              ('what is the price of glass?', {'entities': [(21, 26, 'PrdName')]}), \n",
        "              ('what is the price of moniter?', {'entities': [(21, 28, 'PrdName')]}), \n",
        "              ('what is the price of desktop?', {'entities': [(21, 28, 'PrdName')]}), \n",
        "              ('what is the price of bottle?', {'entities': [(21, 27, 'PrdName')]}), \n",
        "              ('what is the price of mouse?', {'entities': [(21, 26, 'PrdName')]}), \n",
        "              ('what is the price of keyboad?', {'entities': [(21, 28, 'PrdName')]}), \n",
        "              ('what is the price of chair?', {'entities': [(21, 26, 'PrdName')]}), \n",
        "              ('what is the price of table?', {'entities': [(21, 26, 'PrdName')]}), \n",
        "              ('what is the price of watch?', {'entities': [(21, 26, 'PrdName')]})]"
      ],
      "execution_count": 9,
      "outputs": []
    },
    {
      "cell_type": "code",
      "metadata": {
        "id": "I78R4aiKv1h-",
        "outputId": "f3b8cae1-baa1-4558-fbef-972d4ff3f94a",
        "colab": {
          "base_uri": "https://localhost:8080/"
        }
      },
      "source": [
        "def train_spacy(data,iterations):\n",
        "    TRAIN_DATA = data\n",
        "    nlp = spacy.blank('en')  # create blank Language class\n",
        "    # create the built-in pipeline components and add them to the pipeline\n",
        "    # nlp.create_pipe works for built-ins that are registered with spaCy\n",
        "    if 'ner' not in nlp.pipe_names:\n",
        "        ner = nlp.create_pipe('ner')\n",
        "        nlp.add_pipe(ner, last=True)\n",
        "       \n",
        "\n",
        "    # add labels\n",
        "    for _, annotations in TRAIN_DATA:\n",
        "         for ent in annotations.get('entities'):\n",
        "            ner.add_label(ent[2])\n",
        "\n",
        "    # get names of other pipes to disable them during training\n",
        "    other_pipes = [pipe for pipe in nlp.pipe_names if pipe != 'ner']\n",
        "    with nlp.disable_pipes(*other_pipes):  # only train NER\n",
        "        optimizer = nlp.begin_training()\n",
        "        for itn in range(iterations):\n",
        "            print(\"Starting iteration \" + str(itn))\n",
        "            random.shuffle(TRAIN_DATA)\n",
        "            losses = {}\n",
        "            for text, annotations in TRAIN_DATA:\n",
        "                nlp.update(\n",
        "                    [text],  # batch of texts\n",
        "                    [annotations],  # batch of annotations\n",
        "                    drop=0.2,  # dropout - make it harder to memorise data\n",
        "                    sgd=optimizer,  # callable to update weights\n",
        "                    losses=losses)\n",
        "            print(losses)\n",
        "    return nlp\n",
        "  \n",
        "prdnlp = train_spacy(TRAIN_DATA, 20)"
      ],
      "execution_count": 14,
      "outputs": [
        {
          "output_type": "stream",
          "text": [
            "Starting iteration 0\n",
            "{'ner': 49.08064279760765}\n",
            "Starting iteration 1\n",
            "{'ner': 2.623141813894904}\n",
            "Starting iteration 2\n",
            "{'ner': 2.54797519045618}\n",
            "Starting iteration 3\n",
            "{'ner': 1.9891381357630273}\n",
            "Starting iteration 4\n",
            "{'ner': 0.8058330164217723}\n",
            "Starting iteration 5\n",
            "{'ner': 1.008574696641288}\n",
            "Starting iteration 6\n",
            "{'ner': 5.293108504865859}\n",
            "Starting iteration 7\n",
            "{'ner': 2.8336186319740997}\n",
            "Starting iteration 8\n",
            "{'ner': 2.1055557291492693}\n",
            "Starting iteration 9\n",
            "{'ner': 0.9575473366716688}\n",
            "Starting iteration 10\n",
            "{'ner': 3.576508227817468}\n",
            "Starting iteration 11\n",
            "{'ner': 1.4557244176555884}\n",
            "Starting iteration 12\n",
            "{'ner': 3.484738441269903}\n",
            "Starting iteration 13\n",
            "{'ner': 3.3905825884209824}\n",
            "Starting iteration 14\n",
            "{'ner': 0.9535278853753238}\n",
            "Starting iteration 15\n",
            "{'ner': 1.4501121944136688}\n",
            "Starting iteration 16\n",
            "{'ner': 5.312898688215141}\n",
            "Starting iteration 17\n",
            "{'ner': 2.294165147634266}\n",
            "Starting iteration 18\n",
            "{'ner': 1.5991253485074346}\n",
            "Starting iteration 19\n",
            "{'ner': 0.04940585291852661}\n"
          ],
          "name": "stdout"
        }
      ]
    },
    {
      "cell_type": "code",
      "metadata": {
        "id": "WFIYfYhav5SD",
        "outputId": "fe2a912f-6b95-4a01-dd3f-2b5221946ab5",
        "colab": {
          "base_uri": "https://localhost:8080/"
        }
      },
      "source": [
        "test_text = 'what is the price of pen'\n",
        "doc = prdnlp(test_text)\n",
        "for ent in doc.ents:\n",
        "    print(ent.text, ent.start_char, ent.end_char, ent.label_)"
      ],
      "execution_count": 16,
      "outputs": [
        {
          "output_type": "stream",
          "text": [
            "pen 21 24 PrdName\n"
          ],
          "name": "stdout"
        }
      ]
    }
  ]
}